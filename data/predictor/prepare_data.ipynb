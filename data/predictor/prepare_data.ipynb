{
 "cells": [
  {
   "cell_type": "code",
   "execution_count": 1,
   "id": "a212c81a",
   "metadata": {},
   "outputs": [],
   "source": [
    "import pandas as pd\n",
    "import os\n",
    "from sklearn.preprocessing import StandardScaler, OneHotEncoder, MinMaxScaler\n",
    "import torch\n",
    "import numpy as np\n",
    "import torch.nn.functional as F\n",
    "import torch.nn as nn"
   ]
  },
  {
   "cell_type": "code",
   "execution_count": 2,
   "id": "92f696da",
   "metadata": {},
   "outputs": [
    {
     "data": {
      "text/plain": [
       "'/Users/bragehs/Documents/FPL helper/Fantasy-Premier-League/data/predictor'"
      ]
     },
     "execution_count": 2,
     "metadata": {},
     "output_type": "execute_result"
    }
   ],
   "source": [
    "base_path = os.getcwd()\n",
    "base_path"
   ]
  },
  {
   "cell_type": "code",
   "execution_count": 3,
   "id": "89c1c15a",
   "metadata": {},
   "outputs": [
    {
     "name": "stderr",
     "output_type": "stream",
     "text": [
      "/var/folders/yv/683h12gj4mdc5txzm0lh6j0h0000gn/T/ipykernel_53470/2512495820.py:2: DtypeWarning: Columns (3) have mixed types. Specify dtype option on import or set low_memory=False.\n",
      "  df = pd.read_csv(\"/Users/bragehs/Documents/FPL helper/Fantasy-Premier-League/data/cleaned_merged_seasons.csv\")\n"
     ]
    }
   ],
   "source": [
    "file_path = os.path.join(base_path, \"data/cleaned_merged_seasons.csv\")\n",
    "df = pd.read_csv(\"/Users/bragehs/Documents/FPL helper/Fantasy-Premier-League/data/cleaned_merged_seasons.csv\")"
   ]
  },
  {
   "cell_type": "code",
   "execution_count": 4,
   "id": "157dd236",
   "metadata": {},
   "outputs": [
    {
     "data": {
      "text/plain": [
       "Index(['season_x', 'name', 'position', 'team_x', 'assists', 'bonus', 'bps',\n",
       "       'clean_sheets', 'creativity', 'element', 'fixture', 'goals_conceded',\n",
       "       'goals_scored', 'ict_index', 'influence', 'kickoff_time', 'minutes',\n",
       "       'opponent_team', 'opp_team_name', 'own_goals', 'penalties_missed',\n",
       "       'penalties_saved', 'red_cards', 'round', 'saves', 'selected',\n",
       "       'team_a_score', 'team_h_score', 'threat', 'total_points',\n",
       "       'transfers_balance', 'transfers_in', 'transfers_out', 'value',\n",
       "       'was_home', 'yellow_cards', 'GW'],\n",
       "      dtype='object')"
      ]
     },
     "execution_count": 4,
     "metadata": {},
     "output_type": "execute_result"
    }
   ],
   "source": [
    "df.columns"
   ]
  },
  {
   "cell_type": "markdown",
   "id": "6ba1f9d6",
   "metadata": {},
   "source": [
    "# PREPARE DATA"
   ]
  },
  {
   "cell_type": "code",
   "execution_count": 5,
   "id": "543faae5",
   "metadata": {},
   "outputs": [
    {
     "data": {
      "text/plain": [
       "array(['2016-17', '2017-18', '2020-21', '2021-22', '2022-23', '2023-24'],\n",
       "      dtype=object)"
      ]
     },
     "execution_count": 5,
     "metadata": {},
     "output_type": "execute_result"
    }
   ],
   "source": [
    "df['season_x'].unique()"
   ]
  },
  {
   "cell_type": "code",
   "execution_count": 6,
   "id": "547b7833",
   "metadata": {},
   "outputs": [
    {
     "name": "stdout",
     "output_type": "stream",
     "text": [
      "season_x: 0\n",
      "name: 0\n",
      "position: 0\n",
      "team_x: 20034\n",
      "assists: 0\n",
      "bonus: 0\n",
      "bps: 0\n",
      "clean_sheets: 0\n",
      "creativity: 0\n",
      "element: 0\n",
      "fixture: 0\n",
      "goals_conceded: 0\n",
      "goals_scored: 0\n",
      "ict_index: 0\n",
      "influence: 0\n",
      "kickoff_time: 0\n",
      "minutes: 0\n",
      "opponent_team: 0\n",
      "opp_team_name: 126076\n",
      "own_goals: 0\n",
      "penalties_missed: 0\n",
      "penalties_saved: 0\n",
      "red_cards: 0\n",
      "round: 0\n",
      "saves: 0\n",
      "selected: 0\n",
      "team_a_score: 0\n",
      "team_h_score: 0\n",
      "threat: 0\n",
      "total_points: 0\n",
      "transfers_balance: 0\n",
      "transfers_in: 0\n",
      "transfers_out: 0\n",
      "value: 0\n",
      "was_home: 0\n",
      "yellow_cards: 0\n",
      "GW: 0\n"
     ]
    }
   ],
   "source": [
    "for i in df.columns:\n",
    "    print(f\"{i}: {df[i].isna().sum()}\")"
   ]
  },
  {
   "cell_type": "code",
   "execution_count": 7,
   "id": "7cca2717",
   "metadata": {},
   "outputs": [
    {
     "name": "stdout",
     "output_type": "stream",
     "text": [
      "2016-17: 0.00% NaN values in position column\n",
      "2017-18: 0.00% NaN values in position column\n",
      "2020-21: 0.00% NaN values in position column\n",
      "2021-22: 0.00% NaN values in position column\n",
      "2022-23: 0.00% NaN values in position column\n",
      "2023-24: 0.00% NaN values in position column\n"
     ]
    }
   ],
   "source": [
    "# Assuming your merged DataFrame is called df_merged and has columns 'season_x' and 'position'\n",
    "for season in sorted(df['season_x'].unique()):\n",
    "    season_mask = df['season_x'] == season\n",
    "    n_total = season_mask.sum()\n",
    "    n_nans = df.loc[season_mask, 'position'].isna().sum()\n",
    "    percent_nans = (n_nans / n_total) * 100 if n_total > 0 else 0\n",
    "    print(f\"{season}: {percent_nans:.2f}% NaN values in position column\")"
   ]
  },
  {
   "cell_type": "code",
   "execution_count": 8,
   "id": "36261496",
   "metadata": {},
   "outputs": [
    {
     "name": "stdout",
     "output_type": "stream",
     "text": [
      "Fixtures file columns:\n",
      "['code', 'event', 'finished', 'finished_provisional', 'id', 'kickoff_time', 'minutes', 'provisional_start_time', 'started', 'team_a', 'team_a_score', 'team_h', 'team_h_score', 'stats', 'team_h_difficulty', 'team_a_difficulty', 'pulse_id']\n",
      "\n",
      "Sample fixture difficulty data:\n",
      "   id  team_h  team_a  team_h_difficulty  team_a_difficulty\n",
      "0   1       6      13                  5                  2\n",
      "1   2       1      16                  2                  5\n",
      "2   3       3      19                  2                  2\n",
      "3   4       5      12                  2                  3\n",
      "4   5       9      10                  2                  2\n",
      "\n",
      "Difficulty ratings range: 2 to 5\n"
     ]
    }
   ],
   "source": [
    "# Load a fixture file to see the difficulty ratings\n",
    "import os\n",
    "\n",
    "# Check if fixture files exist and examine structure\n",
    "fixture_file = \"/Users/bragehs/Documents/FPL helper/Fantasy-Premier-League/data/2023-24/fixtures.csv\"\n",
    "if os.path.exists(fixture_file):\n",
    "    fixtures_df = pd.read_csv(fixture_file)\n",
    "    print(\"Fixtures file columns:\")\n",
    "    print(fixtures_df.columns.tolist())\n",
    "    print(\"\\nSample fixture difficulty data:\")\n",
    "    print(fixtures_df[['id', 'team_h', 'team_a', 'team_h_difficulty', 'team_a_difficulty']].head())\n",
    "    print(f\"\\nDifficulty ratings range: {fixtures_df['team_h_difficulty'].min()} to {fixtures_df['team_h_difficulty'].max()}\")\n",
    "else:\n",
    "    print(\"Fixture file not found\")"
   ]
  },
  {
   "cell_type": "code",
   "execution_count": 9,
   "id": "e3ff384f",
   "metadata": {},
   "outputs": [
    {
     "name": "stdout",
     "output_type": "stream",
     "text": [
      "Adding fixture difficulty ratings...\n",
      "Found seasons in data: ['2016-17', '2017-18', '2020-21', '2021-22', '2022-23', '2023-24']\n",
      "✗ Fixture file not found for 2016-17: /Users/bragehs/Documents/FPL helper/Fantasy-Premier-League/data/2016-17/fixtures.csv\n",
      "✗ Fixture file not found for 2017-18: /Users/bragehs/Documents/FPL helper/Fantasy-Premier-League/data/2017-18/fixtures.csv\n",
      "✓ Loaded 380 fixtures from 2020-21\n",
      "✓ Loaded 380 fixtures from 2021-22\n",
      "✓ Loaded 380 fixtures from 2022-23\n",
      "✓ Loaded 380 fixtures from 2023-24\n",
      "\n",
      "Total fixtures loaded: 1520\n",
      "\n",
      "Merge results:\n",
      "Original dataframe: 126076 rows\n",
      "With difficulty: 126076 rows\n",
      "Missing difficulty values: 20034\n",
      "\n",
      "Fixture difficulty distribution:\n",
      "fixture_difficulty\n",
      "2.0    50664\n",
      "3.0    26393\n",
      "4.0    21365\n",
      "5.0     7620\n",
      "Name: count, dtype: int64\n",
      "\n",
      "Sample data with difficulty ratings:\n",
      "                             name   GW season_x  was_home  opp_team_name  \\\n",
      "0                 Aaron Cresswell  1.0  2016-17     False            NaN   \n",
      "1                    Aaron Lennon  1.0  2016-17      True            NaN   \n",
      "2                    Aaron Ramsey  1.0  2016-17      True            NaN   \n",
      "3              Abdoulaye Doucouré  1.0  2016-17     False            NaN   \n",
      "4               Abdul Rahman Baba  1.0  2016-17      True            NaN   \n",
      "5                    Adam Forshaw  1.0  2016-17      True            NaN   \n",
      "6                    Adam Lallana  1.0  2016-17     False            NaN   \n",
      "7                      Adam Smith  1.0  2016-17      True            NaN   \n",
      "8  Adrián San Miguel del Castillo  1.0  2016-17     False            NaN   \n",
      "9                      Alex Iwobi  1.0  2016-17      True            NaN   \n",
      "\n",
      "   team_h_difficulty  team_a_difficulty  fixture_difficulty  \n",
      "0                NaN                NaN                 NaN  \n",
      "1                NaN                NaN                 NaN  \n",
      "2                NaN                NaN                 NaN  \n",
      "3                NaN                NaN                 NaN  \n",
      "4                NaN                NaN                 NaN  \n",
      "5                NaN                NaN                 NaN  \n",
      "6                NaN                NaN                 NaN  \n",
      "7                NaN                NaN                 NaN  \n",
      "8                NaN                NaN                 NaN  \n",
      "9                NaN                NaN                 NaN  \n"
     ]
    }
   ],
   "source": [
    "def add_fixture_difficulty_to_dataframe(df):\n",
    "    \"\"\"\n",
    "    Add fixture difficulty ratings to the main dataframe by merging with fixture files\n",
    "    from each season directory.\n",
    "    \"\"\"\n",
    "    base_path = \"/Users/bragehs/Documents/FPL helper/Fantasy-Premier-League/data/\"\n",
    "    \n",
    "    # Get all seasons from the dataframe\n",
    "    seasons = df['season_x'].unique()\n",
    "    print(f\"Found seasons in data: {sorted(seasons)}\")\n",
    "    \n",
    "    # Store all fixture data\n",
    "    all_fixtures = []\n",
    "    \n",
    "    for season in seasons:\n",
    "        fixture_file = os.path.join(base_path, season, \"fixtures.csv\")\n",
    "        \n",
    "        if os.path.exists(fixture_file):\n",
    "            try:\n",
    "                season_fixtures = pd.read_csv(fixture_file)\n",
    "                \n",
    "                # Add season identifier\n",
    "                season_fixtures['fixture_season'] = season\n",
    "                \n",
    "                # Select relevant columns and rename to avoid conflicts\n",
    "                season_fixtures = season_fixtures[['id', 'team_h_difficulty', 'team_a_difficulty', 'fixture_season']]\n",
    "                season_fixtures = season_fixtures.rename(columns={'id': 'fixture_id'})\n",
    "                \n",
    "                all_fixtures.append(season_fixtures)\n",
    "                print(f\"✓ Loaded {len(season_fixtures)} fixtures from {season}\")\n",
    "                \n",
    "            except Exception as e:\n",
    "                print(f\"✗ Error loading fixtures from {season}: {e}\")\n",
    "        else:\n",
    "            print(f\"✗ Fixture file not found for {season}: {fixture_file}\")\n",
    "    \n",
    "    if not all_fixtures:\n",
    "        print(\"No fixture files found!\")\n",
    "        return df\n",
    "    \n",
    "    # Combine all fixture data\n",
    "    combined_fixtures = pd.concat(all_fixtures, ignore_index=True)\n",
    "    print(f\"\\nTotal fixtures loaded: {len(combined_fixtures)}\")\n",
    "    \n",
    "    # Merge with main dataframe\n",
    "    # The 'fixture' column in df corresponds to 'fixture_id' in fixtures\n",
    "    df_with_difficulty = df.merge(\n",
    "        combined_fixtures,\n",
    "        left_on=['fixture', 'season_x'],\n",
    "        right_on=['fixture_id', 'fixture_season'],\n",
    "        how='left'\n",
    "    )\n",
    "    \n",
    "    # Create player-specific difficulty rating\n",
    "    # If player was home team, use team_h_difficulty, else use team_a_difficulty\n",
    "    df_with_difficulty['fixture_difficulty'] = df_with_difficulty.apply(\n",
    "        lambda row: row['team_h_difficulty'] if row['was_home'] else row['team_a_difficulty'],\n",
    "        axis=1\n",
    "    )\n",
    "    \n",
    "    # Drop temporary columns that were created during merge\n",
    "    columns_to_drop = ['fixture_id', 'fixture_season']\n",
    "    existing_columns_to_drop = [col for col in columns_to_drop if col in df_with_difficulty.columns]\n",
    "    \n",
    "    if existing_columns_to_drop:\n",
    "        df_with_difficulty = df_with_difficulty.drop(existing_columns_to_drop, axis=1)\n",
    "    \n",
    "    print(f\"\\nMerge results:\")\n",
    "    print(f\"Original dataframe: {len(df)} rows\")\n",
    "    print(f\"With difficulty: {len(df_with_difficulty)} rows\")\n",
    "    print(f\"Missing difficulty values: {df_with_difficulty['fixture_difficulty'].isna().sum()}\")\n",
    "    \n",
    "    return df_with_difficulty\n",
    "\n",
    "# Apply the function to add fixture difficulty\n",
    "print(\"Adding fixture difficulty ratings...\")\n",
    "df_enhanced = add_fixture_difficulty_to_dataframe(df)\n",
    "\n",
    "# Check the results\n",
    "print(\"\\nFixture difficulty distribution:\")\n",
    "print(df_enhanced['fixture_difficulty'].value_counts().sort_index())\n",
    "\n",
    "print(\"\\nSample data with difficulty ratings:\")\n",
    "sample_with_difficulty = df_enhanced[['name', 'GW', 'season_x', 'was_home', 'opp_team_name', \n",
    "                                     'team_h_difficulty', 'team_a_difficulty', 'fixture_difficulty']].head(10)\n",
    "print(sample_with_difficulty)"
   ]
  },
  {
   "cell_type": "code",
   "execution_count": 10,
   "id": "bf69fbea",
   "metadata": {},
   "outputs": [
    {
     "data": {
      "text/html": [
       "<div>\n",
       "<style scoped>\n",
       "    .dataframe tbody tr th:only-of-type {\n",
       "        vertical-align: middle;\n",
       "    }\n",
       "\n",
       "    .dataframe tbody tr th {\n",
       "        vertical-align: top;\n",
       "    }\n",
       "\n",
       "    .dataframe thead th {\n",
       "        text-align: right;\n",
       "    }\n",
       "</style>\n",
       "<table border=\"1\" class=\"dataframe\">\n",
       "  <thead>\n",
       "    <tr style=\"text-align: right;\">\n",
       "      <th></th>\n",
       "      <th>season_x</th>\n",
       "      <th>name</th>\n",
       "      <th>position</th>\n",
       "      <th>team_x</th>\n",
       "      <th>assists</th>\n",
       "      <th>bonus</th>\n",
       "      <th>bps</th>\n",
       "      <th>clean_sheets</th>\n",
       "      <th>creativity</th>\n",
       "      <th>element</th>\n",
       "      <th>...</th>\n",
       "      <th>transfers_balance</th>\n",
       "      <th>transfers_in</th>\n",
       "      <th>transfers_out</th>\n",
       "      <th>value</th>\n",
       "      <th>was_home</th>\n",
       "      <th>yellow_cards</th>\n",
       "      <th>GW</th>\n",
       "      <th>team_h_difficulty</th>\n",
       "      <th>team_a_difficulty</th>\n",
       "      <th>fixture_difficulty</th>\n",
       "    </tr>\n",
       "  </thead>\n",
       "  <tbody>\n",
       "    <tr>\n",
       "      <th>0</th>\n",
       "      <td>2016-17</td>\n",
       "      <td>Aaron Cresswell</td>\n",
       "      <td>DEF</td>\n",
       "      <td>NaN</td>\n",
       "      <td>0.0</td>\n",
       "      <td>0.0</td>\n",
       "      <td>0.0</td>\n",
       "      <td>0.0</td>\n",
       "      <td>0.0</td>\n",
       "      <td>454.0</td>\n",
       "      <td>...</td>\n",
       "      <td>0.0</td>\n",
       "      <td>0.0</td>\n",
       "      <td>0.0</td>\n",
       "      <td>55.0</td>\n",
       "      <td>False</td>\n",
       "      <td>0.0</td>\n",
       "      <td>1.0</td>\n",
       "      <td>NaN</td>\n",
       "      <td>NaN</td>\n",
       "      <td>NaN</td>\n",
       "    </tr>\n",
       "    <tr>\n",
       "      <th>1</th>\n",
       "      <td>2016-17</td>\n",
       "      <td>Aaron Lennon</td>\n",
       "      <td>MID</td>\n",
       "      <td>NaN</td>\n",
       "      <td>0.0</td>\n",
       "      <td>0.0</td>\n",
       "      <td>6.0</td>\n",
       "      <td>0.0</td>\n",
       "      <td>0.3</td>\n",
       "      <td>142.0</td>\n",
       "      <td>...</td>\n",
       "      <td>0.0</td>\n",
       "      <td>0.0</td>\n",
       "      <td>0.0</td>\n",
       "      <td>60.0</td>\n",
       "      <td>True</td>\n",
       "      <td>0.0</td>\n",
       "      <td>1.0</td>\n",
       "      <td>NaN</td>\n",
       "      <td>NaN</td>\n",
       "      <td>NaN</td>\n",
       "    </tr>\n",
       "    <tr>\n",
       "      <th>2</th>\n",
       "      <td>2016-17</td>\n",
       "      <td>Aaron Ramsey</td>\n",
       "      <td>MID</td>\n",
       "      <td>NaN</td>\n",
       "      <td>0.0</td>\n",
       "      <td>0.0</td>\n",
       "      <td>5.0</td>\n",
       "      <td>0.0</td>\n",
       "      <td>4.9</td>\n",
       "      <td>16.0</td>\n",
       "      <td>...</td>\n",
       "      <td>0.0</td>\n",
       "      <td>0.0</td>\n",
       "      <td>0.0</td>\n",
       "      <td>80.0</td>\n",
       "      <td>True</td>\n",
       "      <td>0.0</td>\n",
       "      <td>1.0</td>\n",
       "      <td>NaN</td>\n",
       "      <td>NaN</td>\n",
       "      <td>NaN</td>\n",
       "    </tr>\n",
       "    <tr>\n",
       "      <th>3</th>\n",
       "      <td>2016-17</td>\n",
       "      <td>Abdoulaye Doucouré</td>\n",
       "      <td>MID</td>\n",
       "      <td>NaN</td>\n",
       "      <td>0.0</td>\n",
       "      <td>0.0</td>\n",
       "      <td>0.0</td>\n",
       "      <td>0.0</td>\n",
       "      <td>0.0</td>\n",
       "      <td>482.0</td>\n",
       "      <td>...</td>\n",
       "      <td>0.0</td>\n",
       "      <td>0.0</td>\n",
       "      <td>0.0</td>\n",
       "      <td>50.0</td>\n",
       "      <td>False</td>\n",
       "      <td>0.0</td>\n",
       "      <td>1.0</td>\n",
       "      <td>NaN</td>\n",
       "      <td>NaN</td>\n",
       "      <td>NaN</td>\n",
       "    </tr>\n",
       "    <tr>\n",
       "      <th>4</th>\n",
       "      <td>2016-17</td>\n",
       "      <td>Abdul Rahman Baba</td>\n",
       "      <td>DEF</td>\n",
       "      <td>NaN</td>\n",
       "      <td>0.0</td>\n",
       "      <td>0.0</td>\n",
       "      <td>0.0</td>\n",
       "      <td>0.0</td>\n",
       "      <td>0.0</td>\n",
       "      <td>80.0</td>\n",
       "      <td>...</td>\n",
       "      <td>0.0</td>\n",
       "      <td>0.0</td>\n",
       "      <td>0.0</td>\n",
       "      <td>55.0</td>\n",
       "      <td>True</td>\n",
       "      <td>0.0</td>\n",
       "      <td>1.0</td>\n",
       "      <td>NaN</td>\n",
       "      <td>NaN</td>\n",
       "      <td>NaN</td>\n",
       "    </tr>\n",
       "  </tbody>\n",
       "</table>\n",
       "<p>5 rows × 40 columns</p>\n",
       "</div>"
      ],
      "text/plain": [
       "  season_x                name position team_x  assists  bonus  bps  \\\n",
       "0  2016-17     Aaron Cresswell      DEF    NaN      0.0    0.0  0.0   \n",
       "1  2016-17        Aaron Lennon      MID    NaN      0.0    0.0  6.0   \n",
       "2  2016-17        Aaron Ramsey      MID    NaN      0.0    0.0  5.0   \n",
       "3  2016-17  Abdoulaye Doucouré      MID    NaN      0.0    0.0  0.0   \n",
       "4  2016-17   Abdul Rahman Baba      DEF    NaN      0.0    0.0  0.0   \n",
       "\n",
       "   clean_sheets  creativity  element  ...  transfers_balance  transfers_in  \\\n",
       "0           0.0         0.0    454.0  ...                0.0           0.0   \n",
       "1           0.0         0.3    142.0  ...                0.0           0.0   \n",
       "2           0.0         4.9     16.0  ...                0.0           0.0   \n",
       "3           0.0         0.0    482.0  ...                0.0           0.0   \n",
       "4           0.0         0.0     80.0  ...                0.0           0.0   \n",
       "\n",
       "   transfers_out  value  was_home yellow_cards   GW  team_h_difficulty  \\\n",
       "0            0.0   55.0     False          0.0  1.0                NaN   \n",
       "1            0.0   60.0      True          0.0  1.0                NaN   \n",
       "2            0.0   80.0      True          0.0  1.0                NaN   \n",
       "3            0.0   50.0     False          0.0  1.0                NaN   \n",
       "4            0.0   55.0      True          0.0  1.0                NaN   \n",
       "\n",
       "   team_a_difficulty  fixture_difficulty  \n",
       "0                NaN                 NaN  \n",
       "1                NaN                 NaN  \n",
       "2                NaN                 NaN  \n",
       "3                NaN                 NaN  \n",
       "4                NaN                 NaN  \n",
       "\n",
       "[5 rows x 40 columns]"
      ]
     },
     "execution_count": 10,
     "metadata": {},
     "output_type": "execute_result"
    }
   ],
   "source": [
    "df_enhanced.head()"
   ]
  },
  {
   "cell_type": "code",
   "execution_count": 11,
   "id": "ab011fc4",
   "metadata": {},
   "outputs": [
    {
     "name": "stdout",
     "output_type": "stream",
     "text": [
      "126076\n"
     ]
    }
   ],
   "source": [
    "print(len(df_enhanced))"
   ]
  },
  {
   "cell_type": "code",
   "execution_count": 12,
   "id": "515075e9",
   "metadata": {},
   "outputs": [
    {
     "name": "stdout",
     "output_type": "stream",
     "text": [
      "106042\n"
     ]
    },
    {
     "data": {
      "text/html": [
       "<div>\n",
       "<style scoped>\n",
       "    .dataframe tbody tr th:only-of-type {\n",
       "        vertical-align: middle;\n",
       "    }\n",
       "\n",
       "    .dataframe tbody tr th {\n",
       "        vertical-align: top;\n",
       "    }\n",
       "\n",
       "    .dataframe thead th {\n",
       "        text-align: right;\n",
       "    }\n",
       "</style>\n",
       "<table border=\"1\" class=\"dataframe\">\n",
       "  <thead>\n",
       "    <tr style=\"text-align: right;\">\n",
       "      <th></th>\n",
       "      <th>name</th>\n",
       "      <th>opp_team_name</th>\n",
       "      <th>team_h_difficulty</th>\n",
       "      <th>team_a_difficulty</th>\n",
       "      <th>fixture_difficulty</th>\n",
       "    </tr>\n",
       "  </thead>\n",
       "  <tbody>\n",
       "    <tr>\n",
       "      <th>20034</th>\n",
       "      <td>Aaron Connolly</td>\n",
       "      <td>NaN</td>\n",
       "      <td>4.0</td>\n",
       "      <td>3.0</td>\n",
       "      <td>4.0</td>\n",
       "    </tr>\n",
       "    <tr>\n",
       "      <th>20035</th>\n",
       "      <td>Aaron Cresswell</td>\n",
       "      <td>NaN</td>\n",
       "      <td>2.0</td>\n",
       "      <td>4.0</td>\n",
       "      <td>2.0</td>\n",
       "    </tr>\n",
       "    <tr>\n",
       "      <th>20036</th>\n",
       "      <td>Aaron Mooy</td>\n",
       "      <td>NaN</td>\n",
       "      <td>4.0</td>\n",
       "      <td>3.0</td>\n",
       "      <td>4.0</td>\n",
       "    </tr>\n",
       "    <tr>\n",
       "      <th>20037</th>\n",
       "      <td>Aaron Ramsdale</td>\n",
       "      <td>NaN</td>\n",
       "      <td>2.0</td>\n",
       "      <td>2.0</td>\n",
       "      <td>2.0</td>\n",
       "    </tr>\n",
       "    <tr>\n",
       "      <th>20038</th>\n",
       "      <td>Abdoulaye Doucouré</td>\n",
       "      <td>NaN</td>\n",
       "      <td>4.0</td>\n",
       "      <td>4.0</td>\n",
       "      <td>4.0</td>\n",
       "    </tr>\n",
       "    <tr>\n",
       "      <th>20039</th>\n",
       "      <td>Aboubakar Kamara</td>\n",
       "      <td>NaN</td>\n",
       "      <td>3.0</td>\n",
       "      <td>2.0</td>\n",
       "      <td>3.0</td>\n",
       "    </tr>\n",
       "    <tr>\n",
       "      <th>20040</th>\n",
       "      <td>Adama Traoré</td>\n",
       "      <td>NaN</td>\n",
       "      <td>2.0</td>\n",
       "      <td>2.0</td>\n",
       "      <td>2.0</td>\n",
       "    </tr>\n",
       "    <tr>\n",
       "      <th>20041</th>\n",
       "      <td>Adam Forshaw</td>\n",
       "      <td>NaN</td>\n",
       "      <td>3.0</td>\n",
       "      <td>3.0</td>\n",
       "      <td>3.0</td>\n",
       "    </tr>\n",
       "    <tr>\n",
       "      <th>20042</th>\n",
       "      <td>Adam Lallana</td>\n",
       "      <td>NaN</td>\n",
       "      <td>4.0</td>\n",
       "      <td>3.0</td>\n",
       "      <td>4.0</td>\n",
       "    </tr>\n",
       "    <tr>\n",
       "      <th>20043</th>\n",
       "      <td>Adam Webster</td>\n",
       "      <td>NaN</td>\n",
       "      <td>4.0</td>\n",
       "      <td>3.0</td>\n",
       "      <td>4.0</td>\n",
       "    </tr>\n",
       "    <tr>\n",
       "      <th>20044</th>\n",
       "      <td>Adrien Silva</td>\n",
       "      <td>NaN</td>\n",
       "      <td>4.0</td>\n",
       "      <td>2.0</td>\n",
       "      <td>2.0</td>\n",
       "    </tr>\n",
       "    <tr>\n",
       "      <th>20045</th>\n",
       "      <td>Adrián San Miguel del Castillo</td>\n",
       "      <td>NaN</td>\n",
       "      <td>3.0</td>\n",
       "      <td>3.0</td>\n",
       "      <td>3.0</td>\n",
       "    </tr>\n",
       "    <tr>\n",
       "      <th>20046</th>\n",
       "      <td>Ahmed El-Sayed Hegazy</td>\n",
       "      <td>NaN</td>\n",
       "      <td>4.0</td>\n",
       "      <td>2.0</td>\n",
       "      <td>4.0</td>\n",
       "    </tr>\n",
       "    <tr>\n",
       "      <th>20047</th>\n",
       "      <td>Ainsley Maitland-Niles</td>\n",
       "      <td>NaN</td>\n",
       "      <td>3.0</td>\n",
       "      <td>2.0</td>\n",
       "      <td>2.0</td>\n",
       "    </tr>\n",
       "    <tr>\n",
       "      <th>20048</th>\n",
       "      <td>Albian Ajeti</td>\n",
       "      <td>NaN</td>\n",
       "      <td>2.0</td>\n",
       "      <td>4.0</td>\n",
       "      <td>2.0</td>\n",
       "    </tr>\n",
       "    <tr>\n",
       "      <th>20049</th>\n",
       "      <td>Aleksandar Mitrović</td>\n",
       "      <td>NaN</td>\n",
       "      <td>3.0</td>\n",
       "      <td>2.0</td>\n",
       "      <td>3.0</td>\n",
       "    </tr>\n",
       "    <tr>\n",
       "      <th>20050</th>\n",
       "      <td>Alexandre Lacazette</td>\n",
       "      <td>NaN</td>\n",
       "      <td>3.0</td>\n",
       "      <td>2.0</td>\n",
       "      <td>2.0</td>\n",
       "    </tr>\n",
       "    <tr>\n",
       "      <th>20051</th>\n",
       "      <td>Alexis Mac Allister</td>\n",
       "      <td>NaN</td>\n",
       "      <td>4.0</td>\n",
       "      <td>3.0</td>\n",
       "      <td>4.0</td>\n",
       "    </tr>\n",
       "    <tr>\n",
       "      <th>20052</th>\n",
       "      <td>Alex Iwobi</td>\n",
       "      <td>NaN</td>\n",
       "      <td>4.0</td>\n",
       "      <td>4.0</td>\n",
       "      <td>4.0</td>\n",
       "    </tr>\n",
       "    <tr>\n",
       "      <th>20053</th>\n",
       "      <td>Alex McCarthy</td>\n",
       "      <td>NaN</td>\n",
       "      <td>2.0</td>\n",
       "      <td>3.0</td>\n",
       "      <td>3.0</td>\n",
       "    </tr>\n",
       "  </tbody>\n",
       "</table>\n",
       "</div>"
      ],
      "text/plain": [
       "                                 name  opp_team_name  team_h_difficulty  \\\n",
       "20034                  Aaron Connolly            NaN                4.0   \n",
       "20035                 Aaron Cresswell            NaN                2.0   \n",
       "20036                      Aaron Mooy            NaN                4.0   \n",
       "20037                  Aaron Ramsdale            NaN                2.0   \n",
       "20038              Abdoulaye Doucouré            NaN                4.0   \n",
       "20039                Aboubakar Kamara            NaN                3.0   \n",
       "20040                    Adama Traoré            NaN                2.0   \n",
       "20041                    Adam Forshaw            NaN                3.0   \n",
       "20042                    Adam Lallana            NaN                4.0   \n",
       "20043                    Adam Webster            NaN                4.0   \n",
       "20044                    Adrien Silva            NaN                4.0   \n",
       "20045  Adrián San Miguel del Castillo            NaN                3.0   \n",
       "20046           Ahmed El-Sayed Hegazy            NaN                4.0   \n",
       "20047          Ainsley Maitland-Niles            NaN                3.0   \n",
       "20048                    Albian Ajeti            NaN                2.0   \n",
       "20049             Aleksandar Mitrović            NaN                3.0   \n",
       "20050             Alexandre Lacazette            NaN                3.0   \n",
       "20051             Alexis Mac Allister            NaN                4.0   \n",
       "20052                      Alex Iwobi            NaN                4.0   \n",
       "20053                   Alex McCarthy            NaN                2.0   \n",
       "\n",
       "       team_a_difficulty  fixture_difficulty  \n",
       "20034                3.0                 4.0  \n",
       "20035                4.0                 2.0  \n",
       "20036                3.0                 4.0  \n",
       "20037                2.0                 2.0  \n",
       "20038                4.0                 4.0  \n",
       "20039                2.0                 3.0  \n",
       "20040                2.0                 2.0  \n",
       "20041                3.0                 3.0  \n",
       "20042                3.0                 4.0  \n",
       "20043                3.0                 4.0  \n",
       "20044                2.0                 2.0  \n",
       "20045                3.0                 3.0  \n",
       "20046                2.0                 4.0  \n",
       "20047                2.0                 2.0  \n",
       "20048                4.0                 2.0  \n",
       "20049                2.0                 3.0  \n",
       "20050                2.0                 2.0  \n",
       "20051                3.0                 4.0  \n",
       "20052                4.0                 4.0  \n",
       "20053                3.0                 3.0  "
      ]
     },
     "execution_count": 12,
     "metadata": {},
     "output_type": "execute_result"
    }
   ],
   "source": [
    "remove_season = df_enhanced[~df_enhanced['season_x'].isin(['2017-18', '2016-17'])].copy()\n",
    "print(len(remove_season))\n",
    "testing = remove_season[[\"name\", \"opp_team_name\", \"team_h_difficulty\", \"team_a_difficulty\", \"fixture_difficulty\"]].head(20)\n",
    "testing"
   ]
  },
  {
   "cell_type": "code",
   "execution_count": 13,
   "id": "c98313d3",
   "metadata": {},
   "outputs": [
    {
     "data": {
      "text/plain": [
       "Index(['season_x', 'name', 'position', 'team_x', 'assists', 'bonus', 'bps',\n",
       "       'clean_sheets', 'creativity', 'element', 'fixture', 'goals_conceded',\n",
       "       'goals_scored', 'ict_index', 'influence', 'kickoff_time', 'minutes',\n",
       "       'opponent_team', 'opp_team_name', 'own_goals', 'penalties_missed',\n",
       "       'penalties_saved', 'red_cards', 'round', 'saves', 'selected',\n",
       "       'team_a_score', 'team_h_score', 'threat', 'total_points',\n",
       "       'transfers_balance', 'transfers_in', 'transfers_out', 'value',\n",
       "       'was_home', 'yellow_cards', 'GW', 'team_h_difficulty',\n",
       "       'team_a_difficulty', 'fixture_difficulty'],\n",
       "      dtype='object')"
      ]
     },
     "execution_count": 13,
     "metadata": {},
     "output_type": "execute_result"
    }
   ],
   "source": [
    "remove_season.columns"
   ]
  },
  {
   "cell_type": "code",
   "execution_count": 14,
   "id": "f1fef4fc",
   "metadata": {},
   "outputs": [
    {
     "name": "stdout",
     "output_type": "stream",
     "text": [
      "season_x: 0\n",
      "name: 0\n",
      "position: 0\n",
      "team_x: 0\n",
      "assists: 0\n",
      "bonus: 0\n"
     ]
    },
    {
     "name": "stdout",
     "output_type": "stream",
     "text": [
      "bps: 0\n",
      "clean_sheets: 0\n",
      "creativity: 0\n",
      "element: 0\n",
      "fixture: 0\n",
      "goals_conceded: 0\n",
      "goals_scored: 0\n",
      "ict_index: 0\n",
      "influence: 0\n",
      "kickoff_time: 0\n",
      "minutes: 0\n",
      "opponent_team: 0\n",
      "opp_team_name: 106042\n",
      "own_goals: 0\n",
      "penalties_missed: 0\n",
      "penalties_saved: 0\n",
      "red_cards: 0\n",
      "round: 0\n",
      "saves: 0\n",
      "selected: 0\n",
      "team_a_score: 0\n",
      "team_h_score: 0\n",
      "threat: 0\n",
      "total_points: 0\n",
      "transfers_balance: 0\n",
      "transfers_in: 0\n",
      "transfers_out: 0\n",
      "value: 0\n",
      "was_home: 0\n",
      "yellow_cards: 0\n",
      "GW: 0\n",
      "team_h_difficulty: 0\n",
      "team_a_difficulty: 0\n",
      "fixture_difficulty: 0\n"
     ]
    }
   ],
   "source": [
    "for i in remove_season.columns:\n",
    "    print(f\"{i}: {remove_season[i].isna().sum()}\")"
   ]
  },
  {
   "cell_type": "code",
   "execution_count": 15,
   "id": "0a27ac71",
   "metadata": {},
   "outputs": [
    {
     "name": "stdout",
     "output_type": "stream",
     "text": [
      "[ 1.  2.  3.  4.  5.  6.  7.  8.  9. 10. 11. 12. 13. 14. 15. 16. 17. 18.\n",
      " 19. 20. 21. 22. 23. 24. 25. 26. 27. 28. 29. 30. 31. 32. 33. 34. 35. 36.\n",
      " 37. 38.]\n",
      "[ 1.  2.  3.  4.  5.  6.  7.  8.  9. 10. 11. 12. 13. 14. 15. 16. 17. 18.\n",
      " 19. 20. 21. 22. 23. 24. 25. 26. 27. 28. 29. 30. 31. 32. 33. 34. 35. 36.\n",
      " 37. 38.]\n"
     ]
    }
   ],
   "source": [
    "print(remove_season['GW'].unique())\n",
    "print(remove_season['round'].unique())"
   ]
  },
  {
   "cell_type": "code",
   "execution_count": 16,
   "id": "01a5fdd4",
   "metadata": {},
   "outputs": [
    {
     "data": {
      "text/plain": [
       "array([ 5., 14., 20., 17.,  1., 15., 11., 18., 10.,  9.,  8.,  6., 19.,\n",
       "        3., 16.,  7.,  2., 12.,  4., 13.])"
      ]
     },
     "execution_count": 16,
     "metadata": {},
     "output_type": "execute_result"
    }
   ],
   "source": [
    "remove_season['opponent_team'].unique()"
   ]
  },
  {
   "cell_type": "code",
   "execution_count": 17,
   "id": "c3cfa22c",
   "metadata": {},
   "outputs": [
    {
     "data": {
      "text/plain": [
       "Index(['season_x', 'name', 'position', 'team_x', 'assists', 'bonus', 'bps',\n",
       "       'clean_sheets', 'creativity', 'element', 'fixture', 'goals_conceded',\n",
       "       'goals_scored', 'ict_index', 'influence', 'kickoff_time', 'minutes',\n",
       "       'opponent_team', 'opp_team_name', 'own_goals', 'penalties_missed',\n",
       "       'penalties_saved', 'red_cards', 'round', 'saves', 'selected',\n",
       "       'team_a_score', 'team_h_score', 'threat', 'total_points',\n",
       "       'transfers_balance', 'transfers_in', 'transfers_out', 'value',\n",
       "       'was_home', 'yellow_cards', 'GW', 'team_h_difficulty',\n",
       "       'team_a_difficulty', 'fixture_difficulty'],\n",
       "      dtype='object')"
      ]
     },
     "execution_count": 17,
     "metadata": {},
     "output_type": "execute_result"
    }
   ],
   "source": [
    "remove_season.columns"
   ]
  },
  {
   "cell_type": "code",
   "execution_count": 32,
   "id": "2eae0677",
   "metadata": {},
   "outputs": [],
   "source": [
    "categorical_features = [\n",
    "    'position',           # Player position (GK, DEF, MID, FWD)\n",
    "]\n",
    "\n",
    "binary_features = [\n",
    "    'was_home',          # Home/Away (boolean)\n",
    "]\n",
    "\n",
    "min_max_features = [\n",
    "    'bonus', 'minutes','fixture_difficulty', 'next_fixture_difficulty', 'yellow_cards', 'red_cards', \n",
    "    'own_goals', 'saves', 'goals_conceded','clean_sheets', 'penalties_missed',\n",
    "    'penalties_saved', 'assists', 'goals_scored', 'season_progress',\n",
    "\n",
    "]\n",
    "\n",
    "standard_features = [\n",
    "    'team_a_score', 'team_h_score', 'creativity', 'influence', 'threat', 'ict_index',  'bps', \n",
    "]\n",
    "\n",
    "metadata_features = [\n",
    "    'name',                    # Player name (use for grouping/analysis)\n",
    "    'element',                 # Player ID (use for grouping sequences)\n",
    "    'team_x',                 \n",
    "    'season_x', \n",
    "]\n",
    "time_feature = 'round'\n",
    "target = 'total_points'  # Target variable for prediction"
   ]
  },
  {
   "cell_type": "code",
   "execution_count": 33,
   "id": "e43f4217",
   "metadata": {},
   "outputs": [
    {
     "data": {
      "text/plain": [
       "array([254., 233., 283., 308.])"
      ]
     },
     "execution_count": 33,
     "metadata": {},
     "output_type": "execute_result"
    }
   ],
   "source": [
    "remove_season[remove_season['name'] == 'Mohamed Salah']['element'].unique()"
   ]
  },
  {
   "cell_type": "code",
   "execution_count": 34,
   "id": "e79ef81f",
   "metadata": {},
   "outputs": [
    {
     "data": {
      "text/plain": [
       "array(['2020-21', '2021-22', '2022-23', '2023-24'], dtype=object)"
      ]
     },
     "execution_count": 34,
     "metadata": {},
     "output_type": "execute_result"
    }
   ],
   "source": [
    "remove_season['season_x'].unique()"
   ]
  },
  {
   "cell_type": "code",
   "execution_count": 35,
   "id": "fd1e7afa",
   "metadata": {},
   "outputs": [
    {
     "data": {
      "text/plain": [
       "array([ 1.,  2.,  3.,  4.,  5.,  6.,  7.,  8.,  9., 10., 11., 12., 13.,\n",
       "       14., 15., 16., 17., 18., 19., 20., 21., 22., 23., 24., 25., 26.,\n",
       "       27., 28., 29., 30., 31., 32., 33., 34., 35., 36., 37., 38.])"
      ]
     },
     "execution_count": 35,
     "metadata": {},
     "output_type": "execute_result"
    }
   ],
   "source": [
    "remove_season.GW.unique()"
   ]
  },
  {
   "cell_type": "code",
   "execution_count": 36,
   "id": "214f4029",
   "metadata": {},
   "outputs": [],
   "source": [
    "remove_season.loc[remove_season['position'].isin(['GK', 'GKP']), 'position'] = 'GK'"
   ]
  },
  {
   "cell_type": "code",
   "execution_count": 37,
   "id": "c1ba4f57",
   "metadata": {},
   "outputs": [],
   "source": [
    "remove_season.loc[remove_season['fixture_difficulty'] == 1, 'fixture_difficulty'] = 2"
   ]
  },
  {
   "cell_type": "code",
   "execution_count": 38,
   "id": "529afd3d",
   "metadata": {},
   "outputs": [
    {
     "data": {
      "text/plain": [
       "array(['FWD', 'DEF', 'GK', 'MID'], dtype=object)"
      ]
     },
     "execution_count": 38,
     "metadata": {},
     "output_type": "execute_result"
    }
   ],
   "source": [
    "remove_season['position'].unique()"
   ]
  },
  {
   "cell_type": "code",
   "execution_count": 39,
   "id": "8fb7f422",
   "metadata": {},
   "outputs": [
    {
     "data": {
      "text/plain": [
       "array([4., 2., 3., 5.])"
      ]
     },
     "execution_count": 39,
     "metadata": {},
     "output_type": "execute_result"
    }
   ],
   "source": [
    "remove_season['fixture_difficulty'].unique()"
   ]
  },
  {
   "cell_type": "code",
   "execution_count": 40,
   "id": "179424f0",
   "metadata": {},
   "outputs": [],
   "source": [
    "#remove rows where minutes is 0\n",
    "remove_season = remove_season[remove_season['minutes'] > 0].copy()"
   ]
  },
  {
   "cell_type": "code",
   "execution_count": 41,
   "id": "7cecd144",
   "metadata": {},
   "outputs": [],
   "source": [
    "#some minor feature engineering\n",
    "remove_season['season_progress'] = remove_season['GW'] / remove_season['GW'].max()\n",
    "remove_season['next_fixture_difficulty'] = (\n",
    "    remove_season\n",
    "    .groupby(['element', 'season_x'])['fixture_difficulty']\n",
    "    .shift(-1)\n",
    ")"
   ]
  },
  {
   "cell_type": "code",
   "execution_count": 42,
   "id": "b277384a",
   "metadata": {},
   "outputs": [],
   "source": [
    "# Assume df is your DataFrame with 'season_x' and 'GW' columns\n",
    "# Sort by season and GW\n",
    "remove_season = remove_season.sort_values(['season_x', 'GW']).reset_index(drop=True)"
   ]
  },
  {
   "cell_type": "code",
   "execution_count": 43,
   "id": "ae71151c",
   "metadata": {},
   "outputs": [
    {
     "data": {
      "text/plain": [
       "season_x                                2023-24\n",
       "name                                Kyle Walker\n",
       "position                                    DEF\n",
       "team_x                                 Man City\n",
       "assists                                     0.0\n",
       "bonus                                       0.0\n",
       "bps                                        15.0\n",
       "clean_sheets                                0.0\n",
       "creativity                                 11.6\n",
       "element                                   369.0\n",
       "fixture                                   379.0\n",
       "goals_conceded                              1.0\n",
       "goals_scored                                0.0\n",
       "ict_index                                   3.2\n",
       "influence                                  20.6\n",
       "kickoff_time               2024-05-19T15:00:00Z\n",
       "minutes                                    90.0\n",
       "opponent_team                              19.0\n",
       "opp_team_name                               NaN\n",
       "own_goals                                   0.0\n",
       "penalties_missed                            0.0\n",
       "penalties_saved                             0.0\n",
       "red_cards                                   0.0\n",
       "round                                      38.0\n",
       "saves                                       0.0\n",
       "selected                              1638831.0\n",
       "team_a_score                                1.0\n",
       "team_h_score                                3.0\n",
       "threat                                      0.0\n",
       "total_points                                2.0\n",
       "transfers_balance                       -3560.0\n",
       "transfers_in                            44071.0\n",
       "transfers_out                           47631.0\n",
       "value                                      55.0\n",
       "was_home                                   True\n",
       "yellow_cards                                0.0\n",
       "GW                                         38.0\n",
       "team_h_difficulty                           2.0\n",
       "team_a_difficulty                           5.0\n",
       "fixture_difficulty                          2.0\n",
       "season_progress                             1.0\n",
       "next_fixture_difficulty                     NaN\n",
       "Name: 43606, dtype: object"
      ]
     },
     "execution_count": 43,
     "metadata": {},
     "output_type": "execute_result"
    }
   ],
   "source": [
    "remove_season.iloc[-1]"
   ]
  },
  {
   "cell_type": "code",
   "execution_count": 44,
   "id": "8687b764",
   "metadata": {},
   "outputs": [
    {
     "name": "stdout",
     "output_type": "stream",
     "text": [
      "Train: 34885, Val: 8722\n"
     ]
    }
   ],
   "source": [
    "# Calculate split indices\n",
    "n = len(remove_season)\n",
    "train_end = int(0.8 * n)\n",
    "\n",
    "train_df = remove_season.iloc[:train_end:]\n",
    "val_df = remove_season.iloc[train_end:]\n",
    "\n",
    "print(f\"Train: {len(train_df)}, Val: {len(val_df)}\")"
   ]
  },
  {
   "cell_type": "code",
   "execution_count": 45,
   "id": "5fbf2d9f",
   "metadata": {},
   "outputs": [],
   "source": [
    "def preprocess_data(df, scalers=None, encoders=None, fit=False):\n",
    "    \"\"\"\n",
    "    Preprocess the dataframe by scaling continuous features and encoding categorical features.\n",
    "    \n",
    "    Args:\n",
    "        df: DataFrame to process\n",
    "        scalers: Dictionary of fitted scalers (if fit=False)\n",
    "        encoders: Dictionary of fitted encoders (if fit=False)\n",
    "        fit: Whether to fit new scalers/encoders or use existing ones\n",
    "    \n",
    "    Returns:\n",
    "        X_processed: Processed DataFrame\n",
    "        scalers: Dictionary of scalers (if fit=True)\n",
    "        encoders: Dictionary of encoders (if fit=True)\n",
    "    \"\"\"\n",
    "    # Separate features\n",
    "    X_min_max = df[min_max_features]\n",
    "    X_standard = df[standard_features]\n",
    "    X_categorical = df[categorical_features]\n",
    "    X_metadata = df[metadata_features]\n",
    "\n",
    "    \n",
    "    if fit:\n",
    "        # Fit new scalers and encoders\n",
    "        scalers = {}\n",
    "        encoders = {}\n",
    "        \n",
    "        # Scale continuous features\n",
    "        scalers['continuous'] = MinMaxScaler()\n",
    "        X_minmax_scaled = scalers['continuous'].fit_transform(X_min_max)\n",
    "        \n",
    "        # Encode categorical features\n",
    "        encoders['categorical'] = OneHotEncoder(sparse_output=False, handle_unknown='ignore')\n",
    "        X_categorical_encoded = encoders['categorical'].fit_transform(X_categorical)\n",
    "        \n",
    "        # Scale ordinal features\n",
    "        scalers['ordinal'] = StandardScaler()\n",
    "        X_standard_encoded = scalers['ordinal'].fit_transform(X_standard)\n",
    "    else:\n",
    "        # Use existing scalers and encoders\n",
    "        X_minmax_scaled = scalers['continuous'].transform(X_min_max)\n",
    "        X_categorical_encoded = encoders['categorical'].transform(X_categorical)\n",
    "        X_standard_encoded = scalers['ordinal'].transform(X_standard)\n",
    "    \n",
    "    # Extract time and target\n",
    "    X_time = df['GW']\n",
    "    y = df[target]\n",
    "    \n",
    "    # Combine processed features\n",
    "    X_time_df = pd.DataFrame(X_time.values, columns=['GW'])\n",
    "    X_cont_df = pd.DataFrame(X_minmax_scaled, columns=min_max_features)\n",
    "    X_cat_df = pd.DataFrame(X_categorical_encoded, \n",
    "                           columns=encoders['categorical'].get_feature_names_out(categorical_features))\n",
    "    X_metadata_df = pd.DataFrame(X_metadata.values, columns=metadata_features)\n",
    "    X_ordinal_encoded_df = pd.DataFrame(X_standard_encoded, columns=standard_features)\n",
    "    target_df = pd.DataFrame(y.values, columns=[target])\n",
    "    \n",
    "    X_processed = pd.concat([X_time_df, X_cont_df, X_cat_df, X_metadata_df, \n",
    "                            X_ordinal_encoded_df, target_df], axis=1)\n",
    "    \n",
    "    if fit:\n",
    "        return X_processed, scalers, encoders\n",
    "    else:\n",
    "        return X_processed\n",
    "\n",
    "# Fit scalers and encoders on training data only\n",
    "processed_train_df, scalers, encoders = preprocess_data(train_df, fit=True)\n",
    "\n",
    "# Transform validation and test data using the fitted scalers/encoders\n",
    "processed_val_df = preprocess_data(val_df, scalers=scalers, encoders=encoders, fit=False)"
   ]
  },
  {
   "cell_type": "code",
   "execution_count": 46,
   "id": "f780a0e4",
   "metadata": {},
   "outputs": [
    {
     "name": "stdout",
     "output_type": "stream",
     "text": [
      "GW: 0\n",
      "bonus: 0\n",
      "minutes: 0\n",
      "fixture_difficulty: 0\n",
      "next_fixture_difficulty: 544\n",
      "yellow_cards: 0\n",
      "red_cards: 0\n",
      "own_goals: 0\n",
      "saves: 0\n",
      "goals_conceded: 0\n",
      "clean_sheets: 0\n",
      "penalties_missed: 0\n",
      "penalties_saved: 0\n",
      "assists: 0\n",
      "goals_scored: 0\n",
      "season_progress: 0\n",
      "position_DEF: 0\n",
      "position_FWD: 0\n",
      "position_GK: 0\n",
      "position_MID: 0\n",
      "name: 0\n",
      "element: 0\n",
      "team_x: 0\n",
      "season_x: 0\n",
      "team_a_score: 0\n",
      "team_h_score: 0\n",
      "creativity: 0\n",
      "influence: 0\n",
      "threat: 0\n",
      "ict_index: 0\n",
      "bps: 0\n",
      "total_points: 0\n"
     ]
    }
   ],
   "source": [
    "for i in processed_train_df.columns:\n",
    "    print(f\"{i}: {processed_val_df[i].isna().sum()}\")"
   ]
  },
  {
   "cell_type": "code",
   "execution_count": 47,
   "id": "327ab215",
   "metadata": {},
   "outputs": [
    {
     "data": {
      "text/plain": [
       "Index(['GW', 'bonus', 'minutes', 'fixture_difficulty',\n",
       "       'next_fixture_difficulty', 'yellow_cards', 'red_cards', 'own_goals',\n",
       "       'saves', 'goals_conceded', 'clean_sheets', 'penalties_missed',\n",
       "       'penalties_saved', 'assists', 'goals_scored', 'season_progress',\n",
       "       'position_DEF', 'position_FWD', 'position_GK', 'position_MID', 'name',\n",
       "       'element', 'team_x', 'season_x', 'team_a_score', 'team_h_score',\n",
       "       'creativity', 'influence', 'threat', 'ict_index', 'bps',\n",
       "       'total_points'],\n",
       "      dtype='object')"
      ]
     },
     "execution_count": 47,
     "metadata": {},
     "output_type": "execute_result"
    }
   ],
   "source": [
    "processed_train_df.columns"
   ]
  },
  {
   "cell_type": "code",
   "execution_count": 48,
   "id": "02230434",
   "metadata": {},
   "outputs": [
    {
     "data": {
      "text/html": [
       "<div>\n",
       "<style scoped>\n",
       "    .dataframe tbody tr th:only-of-type {\n",
       "        vertical-align: middle;\n",
       "    }\n",
       "\n",
       "    .dataframe tbody tr th {\n",
       "        vertical-align: top;\n",
       "    }\n",
       "\n",
       "    .dataframe thead th {\n",
       "        text-align: right;\n",
       "    }\n",
       "</style>\n",
       "<table border=\"1\" class=\"dataframe\">\n",
       "  <thead>\n",
       "    <tr style=\"text-align: right;\">\n",
       "      <th></th>\n",
       "      <th>GW</th>\n",
       "      <th>bonus</th>\n",
       "      <th>minutes</th>\n",
       "      <th>fixture_difficulty</th>\n",
       "      <th>next_fixture_difficulty</th>\n",
       "      <th>yellow_cards</th>\n",
       "      <th>red_cards</th>\n",
       "      <th>own_goals</th>\n",
       "      <th>saves</th>\n",
       "      <th>goals_conceded</th>\n",
       "      <th>...</th>\n",
       "      <th>team_x</th>\n",
       "      <th>season_x</th>\n",
       "      <th>team_a_score</th>\n",
       "      <th>team_h_score</th>\n",
       "      <th>creativity</th>\n",
       "      <th>influence</th>\n",
       "      <th>threat</th>\n",
       "      <th>ict_index</th>\n",
       "      <th>bps</th>\n",
       "      <th>total_points</th>\n",
       "    </tr>\n",
       "  </thead>\n",
       "  <tbody>\n",
       "    <tr>\n",
       "      <th>0</th>\n",
       "      <td>1.0</td>\n",
       "      <td>0.0</td>\n",
       "      <td>0.494382</td>\n",
       "      <td>0.666667</td>\n",
       "      <td>0.000000</td>\n",
       "      <td>0.0</td>\n",
       "      <td>0.0</td>\n",
       "      <td>0.0</td>\n",
       "      <td>0.000000</td>\n",
       "      <td>0.222222</td>\n",
       "      <td>...</td>\n",
       "      <td>Brighton</td>\n",
       "      <td>2020-21</td>\n",
       "      <td>1.369206</td>\n",
       "      <td>-0.382483</td>\n",
       "      <td>-0.712655</td>\n",
       "      <td>-0.924288</td>\n",
       "      <td>1.239238</td>\n",
       "      <td>-0.049563</td>\n",
       "      <td>-1.486360</td>\n",
       "      <td>1.0</td>\n",
       "    </tr>\n",
       "    <tr>\n",
       "      <th>1</th>\n",
       "      <td>1.0</td>\n",
       "      <td>0.0</td>\n",
       "      <td>1.000000</td>\n",
       "      <td>0.000000</td>\n",
       "      <td>0.666667</td>\n",
       "      <td>0.0</td>\n",
       "      <td>0.0</td>\n",
       "      <td>0.0</td>\n",
       "      <td>0.000000</td>\n",
       "      <td>0.222222</td>\n",
       "      <td>...</td>\n",
       "      <td>West Ham</td>\n",
       "      <td>2020-21</td>\n",
       "      <td>0.564015</td>\n",
       "      <td>-1.114806</td>\n",
       "      <td>0.093308</td>\n",
       "      <td>-0.303254</td>\n",
       "      <td>-0.639617</td>\n",
       "      <td>-0.398635</td>\n",
       "      <td>-0.161281</td>\n",
       "      <td>1.0</td>\n",
       "    </tr>\n",
       "    <tr>\n",
       "      <th>2</th>\n",
       "      <td>1.0</td>\n",
       "      <td>0.0</td>\n",
       "      <td>1.000000</td>\n",
       "      <td>0.000000</td>\n",
       "      <td>0.333333</td>\n",
       "      <td>0.0</td>\n",
       "      <td>0.0</td>\n",
       "      <td>0.0</td>\n",
       "      <td>0.181818</td>\n",
       "      <td>0.222222</td>\n",
       "      <td>...</td>\n",
       "      <td>Sheffield Utd</td>\n",
       "      <td>2020-21</td>\n",
       "      <td>0.564015</td>\n",
       "      <td>-1.114806</td>\n",
       "      <td>-0.734838</td>\n",
       "      <td>0.223274</td>\n",
       "      <td>-0.639617</td>\n",
       "      <td>-0.514992</td>\n",
       "      <td>-0.066632</td>\n",
       "      <td>1.0</td>\n",
       "    </tr>\n",
       "    <tr>\n",
       "      <th>3</th>\n",
       "      <td>1.0</td>\n",
       "      <td>0.0</td>\n",
       "      <td>1.000000</td>\n",
       "      <td>0.666667</td>\n",
       "      <td>0.000000</td>\n",
       "      <td>0.0</td>\n",
       "      <td>0.0</td>\n",
       "      <td>0.0</td>\n",
       "      <td>0.000000</td>\n",
       "      <td>0.000000</td>\n",
       "      <td>...</td>\n",
       "      <td>Everton</td>\n",
       "      <td>2020-21</td>\n",
       "      <td>-0.241177</td>\n",
       "      <td>-1.114806</td>\n",
       "      <td>2.562958</td>\n",
       "      <td>0.371782</td>\n",
       "      <td>-0.404760</td>\n",
       "      <td>0.968563</td>\n",
       "      <td>0.690556</td>\n",
       "      <td>3.0</td>\n",
       "    </tr>\n",
       "    <tr>\n",
       "      <th>4</th>\n",
       "      <td>1.0</td>\n",
       "      <td>0.0</td>\n",
       "      <td>0.685393</td>\n",
       "      <td>0.333333</td>\n",
       "      <td>0.333333</td>\n",
       "      <td>0.0</td>\n",
       "      <td>0.0</td>\n",
       "      <td>0.0</td>\n",
       "      <td>0.000000</td>\n",
       "      <td>0.333333</td>\n",
       "      <td>...</td>\n",
       "      <td>Fulham</td>\n",
       "      <td>2020-21</td>\n",
       "      <td>1.369206</td>\n",
       "      <td>-1.114806</td>\n",
       "      <td>-0.601743</td>\n",
       "      <td>-1.005292</td>\n",
       "      <td>-0.346046</td>\n",
       "      <td>-0.980422</td>\n",
       "      <td>-1.391712</td>\n",
       "      <td>2.0</td>\n",
       "    </tr>\n",
       "  </tbody>\n",
       "</table>\n",
       "<p>5 rows × 32 columns</p>\n",
       "</div>"
      ],
      "text/plain": [
       "    GW  bonus   minutes  fixture_difficulty  next_fixture_difficulty  \\\n",
       "0  1.0    0.0  0.494382            0.666667                 0.000000   \n",
       "1  1.0    0.0  1.000000            0.000000                 0.666667   \n",
       "2  1.0    0.0  1.000000            0.000000                 0.333333   \n",
       "3  1.0    0.0  1.000000            0.666667                 0.000000   \n",
       "4  1.0    0.0  0.685393            0.333333                 0.333333   \n",
       "\n",
       "   yellow_cards  red_cards  own_goals     saves  goals_conceded  ...  \\\n",
       "0           0.0        0.0        0.0  0.000000        0.222222  ...   \n",
       "1           0.0        0.0        0.0  0.000000        0.222222  ...   \n",
       "2           0.0        0.0        0.0  0.181818        0.222222  ...   \n",
       "3           0.0        0.0        0.0  0.000000        0.000000  ...   \n",
       "4           0.0        0.0        0.0  0.000000        0.333333  ...   \n",
       "\n",
       "          team_x  season_x  team_a_score  team_h_score  creativity  influence  \\\n",
       "0       Brighton   2020-21      1.369206     -0.382483   -0.712655  -0.924288   \n",
       "1       West Ham   2020-21      0.564015     -1.114806    0.093308  -0.303254   \n",
       "2  Sheffield Utd   2020-21      0.564015     -1.114806   -0.734838   0.223274   \n",
       "3        Everton   2020-21     -0.241177     -1.114806    2.562958   0.371782   \n",
       "4         Fulham   2020-21      1.369206     -1.114806   -0.601743  -1.005292   \n",
       "\n",
       "     threat  ict_index       bps  total_points  \n",
       "0  1.239238  -0.049563 -1.486360           1.0  \n",
       "1 -0.639617  -0.398635 -0.161281           1.0  \n",
       "2 -0.639617  -0.514992 -0.066632           1.0  \n",
       "3 -0.404760   0.968563  0.690556           3.0  \n",
       "4 -0.346046  -0.980422 -1.391712           2.0  \n",
       "\n",
       "[5 rows x 32 columns]"
      ]
     },
     "execution_count": 48,
     "metadata": {},
     "output_type": "execute_result"
    }
   ],
   "source": [
    "processed_train_df.head()"
   ]
  },
  {
   "cell_type": "code",
   "execution_count": 49,
   "id": "1987f3cd",
   "metadata": {},
   "outputs": [
    {
     "name": "stdout",
     "output_type": "stream",
     "text": [
      "['2020-21' '2021-22' '2022-23' '2023-24']\n",
      "['2023-24']\n"
     ]
    }
   ],
   "source": [
    "print(processed_train_df['season_x'].unique())\n",
    "print(processed_val_df['season_x'].unique())"
   ]
  },
  {
   "cell_type": "code",
   "execution_count": 50,
   "id": "769c24e1",
   "metadata": {},
   "outputs": [
    {
     "name": "stdout",
     "output_type": "stream",
     "text": [
      "2023-24: ['Michale Olakigbe' 'Michael Olakigbe']\n"
     ]
    }
   ],
   "source": [
    "for season, group in processed_train_df.groupby('season_x'):\n",
    "    for i in processed_train_df['element'].unique():\n",
    "        unique_names = group[group['element'] == i]['name'].unique()\n",
    "        if len(unique_names) > 1:\n",
    "            print(f\"{season}: {unique_names}\")\n",
    "\n",
    "#element is only a player ID within a season"
   ]
  },
  {
   "cell_type": "code",
   "execution_count": 51,
   "id": "a742b463",
   "metadata": {},
   "outputs": [
    {
     "name": "stdout",
     "output_type": "stream",
     "text": [
      "34885\n"
     ]
    }
   ],
   "source": [
    "print(len(processed_train_df))"
   ]
  },
  {
   "cell_type": "code",
   "execution_count": 52,
   "id": "50eb48a4",
   "metadata": {},
   "outputs": [
    {
     "data": {
      "text/plain": [
       "Index(['GW', 'bonus', 'minutes', 'fixture_difficulty',\n",
       "       'next_fixture_difficulty', 'yellow_cards', 'red_cards', 'own_goals',\n",
       "       'saves', 'goals_conceded', 'clean_sheets', 'penalties_missed',\n",
       "       'penalties_saved', 'assists', 'goals_scored', 'season_progress',\n",
       "       'position_DEF', 'position_FWD', 'position_GK', 'position_MID', 'name',\n",
       "       'element', 'team_x', 'season_x', 'team_a_score', 'team_h_score',\n",
       "       'creativity', 'influence', 'threat', 'ict_index', 'bps',\n",
       "       'total_points'],\n",
       "      dtype='object')"
      ]
     },
     "execution_count": 52,
     "metadata": {},
     "output_type": "execute_result"
    }
   ],
   "source": [
    "processed_train_df.columns"
   ]
  },
  {
   "cell_type": "code",
   "execution_count": 53,
   "id": "dd4db046",
   "metadata": {},
   "outputs": [
    {
     "data": {
      "text/plain": [
       "count    34885.000000\n",
       "mean         2.916124\n",
       "std          2.987929\n",
       "min         -7.000000\n",
       "25%          1.000000\n",
       "50%          2.000000\n",
       "75%          3.000000\n",
       "max         24.000000\n",
       "Name: total_points, dtype: float64"
      ]
     },
     "execution_count": 53,
     "metadata": {},
     "output_type": "execute_result"
    }
   ],
   "source": [
    "processed_train_df['total_points'].describe()"
   ]
  },
  {
   "cell_type": "code",
   "execution_count": 61,
   "id": "52909759",
   "metadata": {},
   "outputs": [],
   "source": [
    "def create_sequences(df, past_sequences=5, future_sequences=3):\n",
    "    \"\"\"\n",
    "    Create sequences of data for each player based on the Gameweek (GW).\n",
    "    all combinations of previous 5 GWs, with the next GW as target.\n",
    "    store as pytorch tensors.\n",
    "    \"\"\"\n",
    "    #sort to ensure features are always in same order\n",
    "    feature_cols = sorted([col for col in df.columns if col not in ['total_points', 'GW', 'element', 'name', 'season_x', 'team_x']])\n",
    "    X_seq, y_seq, meta, future_fixture_difficulty = [], [], [], []\n",
    "\n",
    "    for player_id, stats in df.groupby(['element', 'season_x']):\n",
    "        group = stats.sort_values('GW')\n",
    "        \n",
    "        for i in range(len(group) - past_sequences):\n",
    "            sequence = group.iloc[i:i+past_sequences][feature_cols].values\n",
    "            target = group.iloc[i+past_sequences:i+past_sequences+future_sequences]['total_points'].values\n",
    "            future_fd = group.iloc[i+past_sequences:i+past_sequences+future_sequences]['fixture_difficulty'].values\n",
    "            if len(target) != future_sequences:\n",
    "                continue\n",
    "            metadata = group.iloc[i:i+past_sequences][['GW', 'element', 'name', 'season_x', 'team_x']].values\n",
    "            X_seq.append(sequence)\n",
    "            y_seq.append(target)\n",
    "            meta.append((player_id, metadata))\n",
    "            future_fixture_difficulty.append(future_fd)\n",
    "    \n",
    "    # Convert to numpy arrays\n",
    "    X_np = np.array(X_seq)\n",
    "    y_np = np.array(y_seq)\n",
    "    future_fd_np = np.array(future_fixture_difficulty)\n",
    "\n",
    "    # Convert to tensors\n",
    "    X_tensor = torch.tensor(X_np, dtype=torch.float32)\n",
    "    y_tensor = torch.tensor(y_np, dtype=torch.float32)\n",
    "    future_fd_tensor = torch.tensor(future_fd_np, dtype=torch.float32)\n",
    "\n",
    "    return X_tensor, y_tensor, future_fd_tensor, meta\n",
    "        \n",
    "    "
   ]
  },
  {
   "cell_type": "code",
   "execution_count": 62,
   "id": "4996c122",
   "metadata": {},
   "outputs": [
    {
     "name": "stdout",
     "output_type": "stream",
     "text": [
      "Train sequences: torch.Size([22570, 5, 26]), Targets: torch.Size([22570, 3]), Future FD: torch.Size([22570, 3])\n",
      "Val sequences: torch.Size([5364, 5, 26]), Targets: torch.Size([5364, 3]), Future FD: torch.Size([5364, 3])\n"
     ]
    }
   ],
   "source": [
    "X_train, y_train, future_fd_train, meta_train = create_sequences(processed_train_df)\n",
    "X_val, y_val, future_fd_val, meta_val = create_sequences(processed_val_df)\n",
    "\n",
    "print(f\"Train sequences: {X_train.shape}, Targets: {y_train.shape}, Future FD: {future_fd_train.shape}\")\n",
    "print(f\"Val sequences: {X_val.shape}, Targets: {y_val.shape}, Future FD: {future_fd_val.shape}\")"
   ]
  },
  {
   "cell_type": "code",
   "execution_count": 63,
   "id": "c440fb95",
   "metadata": {},
   "outputs": [
    {
     "name": "stdout",
     "output_type": "stream",
     "text": [
      "Data preparation complete. Sequences saved to disk.\n"
     ]
    }
   ],
   "source": [
    "torch.save((X_train, y_train, future_fd_train, meta_train), 'data/train_sequences.pt')\n",
    "torch.save((X_val, y_val, future_fd_train, meta_val), 'data/val_sequences.pt')\n",
    "\n",
    "print(\"Data preparation complete. Sequences saved to disk.\")"
   ]
  },
  {
   "cell_type": "code",
   "execution_count": null,
   "id": "bb0572c6",
   "metadata": {},
   "outputs": [],
   "source": []
  }
 ],
 "metadata": {
  "kernelspec": {
   "display_name": "fpl_helper",
   "language": "python",
   "name": "python3"
  },
  "language_info": {
   "codemirror_mode": {
    "name": "ipython",
    "version": 3
   },
   "file_extension": ".py",
   "mimetype": "text/x-python",
   "name": "python",
   "nbconvert_exporter": "python",
   "pygments_lexer": "ipython3",
   "version": "3.11.13"
  }
 },
 "nbformat": 4,
 "nbformat_minor": 5
}
